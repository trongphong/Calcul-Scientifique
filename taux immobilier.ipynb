{
 "cells": [
  {
   "cell_type": "markdown",
   "metadata": {},
   "source": [
    "# Formulle d'un crédit d'immobilier\n",
    "\n",
    "#### Exemple\n",
    "Soit par exemple un crédit immobilier d'un montant de $200 000$ €, emprunté sur $20$ ans à un taux d’intérêt de $1 \\%$, soit $240$ mensualités de $919,79 €$.\t\n",
    "\n",
    "Lors du paiement de la première mensualité, l'emprunteur doit encore 200 000 € à la banque. Les intérêts mensuels s’élèvent à un douzième des intérêts annuels sur cette somme, soit $(200 000 x 1 \\%) / 12 = 166,67$ €.\n",
    "\n",
    "La première mensualité, d’un montant total de $919,79$ €, se compose donc de $166,67$ € d’intérêts et de $753,12 €$ de remboursement de capital.\n",
    "\n",
    "Le mois suivant, le capital restant dû diminue de $753,12$ €. Il ne s’élève donc plus qu'à $199 246,88$ €.\n",
    "\n",
    "La mensualité suivante se composera donc que de $(199 246,88 x 1 \\%) / 12 = 166,04 €$ d'intérêts, soit légèrement moins que le mois précédent. Le capital remboursé passe à $753,75= (919,79 – 166,04)$.\n",
    "#### Problème\n",
    "Soit un crédit $C$ pendant $N$ mois pour le taux de $T\\%$ par mois. Calculer la mensualité de ce crédit. \n",
    "\n",
    "On note $M$ la mensualité, et $C_n$ le capital restant au $k$-ième mois. On obtient alors l'équation récurrente\n",
    "\t$$C_{k+1}=C_n-(M-tC_k),$$\n",
    "équivaut \n",
    "\t  $$C_{k+1}-\\frac{M}{t}=(1+M)\\left(C_k-\\frac{M}{t}\\right),$$\n",
    "ça nous dit que la suite $\\left(C_k-\\frac{M}{t}\\right) $ est une suite géométrique, donc \n",
    "\t$$C_k-\\frac{M}{T}=(1+T)^k \\left(C_0-\\frac{M}{T}\\right).$$\n",
    "\n",
    "Par ailleurs, $C_N=0$, on obtient alors l'égalité suivante\n",
    "\t\t$$\\frac{M}{T}+(1+T)^k \\left(C_0-\\frac{M}{T} \\right)=0,$$\n",
    "ça nous donne que \n",
    "\t\t$$M=\\frac{TC(1+T)^{N}}{(1+T)^{N}-1} .$$"
   ]
  },
  {
   "cell_type": "code",
   "execution_count": 1,
   "metadata": {},
   "outputs": [],
   "source": [
    "import numpy as np"
   ]
  },
  {
   "cell_type": "code",
   "execution_count": 6,
   "metadata": {},
   "outputs": [],
   "source": [
    "def interet(C,t,n):\n",
    "    #n: Durée de crédit (ans).\n",
    "    #t: taux par un.\n",
    "    N=n*12\n",
    "    T=t/12\n",
    "    const=(1+T)**N\n",
    "    M=C*T*const/(const-1)\n",
    "    Int=M*N-C\n",
    "    #Int: Total des intérêts\n",
    "    return (M, Int)"
   ]
  },
  {
   "cell_type": "code",
   "execution_count": 11,
   "metadata": {},
   "outputs": [
    {
     "data": {
      "text/plain": [
       "(1292.1414042268157, 137642.42126804468)"
      ]
     },
     "execution_count": 11,
     "metadata": {},
     "output_type": "execute_result"
    }
   ],
   "source": [
    "interet(250000,0.038,25)"
   ]
  },
  {
   "cell_type": "markdown",
   "metadata": {},
   "source": [
    "Pour un crédit 250000 euros, le taux de 3,8% par un pendant 25 ans, alors la mensualité est 1292,14 euros et le total des intérêt est 137642.42 euros."
   ]
  },
  {
   "cell_type": "code",
   "execution_count": null,
   "metadata": {},
   "outputs": [],
   "source": []
  }
 ],
 "metadata": {
  "kernelspec": {
   "display_name": "Python 3",
   "language": "python",
   "name": "python3"
  },
  "language_info": {
   "codemirror_mode": {
    "name": "ipython",
    "version": 3
   },
   "file_extension": ".py",
   "mimetype": "text/x-python",
   "name": "python",
   "nbconvert_exporter": "python",
   "pygments_lexer": "ipython3",
   "version": "3.7.4"
  }
 },
 "nbformat": 4,
 "nbformat_minor": 2
}
